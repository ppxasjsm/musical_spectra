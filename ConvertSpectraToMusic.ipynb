{
 "cells": [
  {
   "cell_type": "markdown",
   "metadata": {},
   "source": [
    "# Using midiutil to make music from an IR spectrum"
   ]
  },
  {
   "cell_type": "code",
   "execution_count": 41,
   "metadata": {},
   "outputs": [
    {
     "name": "stdout",
     "output_type": "stream",
     "text": [
      "Populating the interactive namespace from numpy and matplotlib\n"
     ]
    },
    {
     "name": "stderr",
     "output_type": "stream",
     "text": [
      "/home/chobday/anaconda3/lib/python3.7/site-packages/IPython/core/magics/pylab.py:160: UserWarning: pylab import has clobbered these variables: ['degrees', 'time']\n",
      "`%matplotlib` prevents importing * from pylab and numpy\n",
      "  \"\\n`%matplotlib` prevents importing * from pylab and numpy\"\n"
     ]
    }
   ],
   "source": [
    "#import all python modules needed\n",
    "\n",
    "from midiutil import MIDIFile\n",
    "%pylab inline   # this imports numpy, matplotlib"
   ]
  },
  {
   "cell_type": "code",
   "execution_count": 42,
   "metadata": {},
   "outputs": [],
   "source": [
    "## Import the data\n",
    "#### Here its a CSV format IR spectrum of C60+"
   ]
  },
  {
   "cell_type": "code",
   "execution_count": 7,
   "metadata": {},
   "outputs": [
    {
     "name": "stdout",
     "output_type": "stream",
     "text": [
      "[0.97885 1.01612 0.97103 ... 0.99287 0.99609 0.98927]\n"
     ]
    },
    {
     "data": {
      "image/png": "[encoded data removed]",
      "text/plain": [
       "<Figure size 432x288 with 1 Axes>"
      ]
     },
     "metadata": {
      "needs_background": "light"
     },
     "output_type": "display_data"
    }
   ],
   "source": [
    "data = np.loadtxt('C60plus.csv',skiprows=1, delimiter=',')\n",
    "plt.plot(data[:,0],data[:,1])\n",
    "ab = data[:,1]\n",
    "print(ab)"
   ]
  },
  {
   "cell_type": "code",
   "execution_count": 5,
   "metadata": {},
   "outputs": [],
   "source": [
    "#### Fit the spectrum to a scale by defining a midi scale (C scale). \n",
    "#### Take the minimum and maximum values of intensity of our spectrum, then create bins which correspond to how many notes we have in our scale. In this case its 15 notes, so we have 15 bins to put our absorption data in.\n",
    "#### Then fill these bins with each data point of our IR absorption\n",
    "#### Then convert the absorption to the note from the scale."
   ]
  },
  {
   "cell_type": "code",
   "execution_count": 40,
   "metadata": {},
   "outputs": [
    {
     "name": "stdout",
     "output_type": "stream",
     "text": [
      "20\n",
      "-0.01695\n",
      "1.14248\n"
     ]
    }
   ],
   "source": [
    "scale= [36,38,40,43,45,48,50,52,55,57,60,62,64,67,69,72,74,76,79,81]\n",
    "print(len(scale))\n",
    "print(min(ab)) #minimum absorption\n",
    "print(max(ab))#maximum absorption\n",
    "\n",
    "bins = np.linspace(min(ab),max(ab),len(scale)) #our original data split into 15 bins, corresponding to our 15 notes\n",
    "abs_binned = np.digitize(ab,bins) #our data put into these 15 bins\n",
    "unique_bins = np.unique(abs_binned) # array of our unique bins \n",
    "\n",
    "revalue = dict(zip(unique_bins, scale)) # dictionary to map our scale to the binned values of our IR absorption\n",
    "notes = [revalue.get(n, n) for n in abs_binned] #put the absorptions onto the scale\n",
    "\n",
    "#print(notes)"
   ]
  },
  {
   "cell_type": "markdown",
   "metadata": {},
   "source": [
    "#### Assign lengths to the notes of each absorption \"note\""
   ]
  },
  {
   "cell_type": "code",
   "execution_count": 29,
   "metadata": {},
   "outputs": [],
   "source": [
    "duration = []\n",
    "durations_choice = np.array([0.25,0.5,0.75])\n",
    "for i in range(len(notes)):\n",
    "    duration.append(random.choice(durations_choice))"
   ]
  },
  {
   "cell_type": "markdown",
   "metadata": {},
   "source": [
    "#### Add the notes into a midi file with help of midi util."
   ]
  },
  {
   "cell_type": "markdown",
   "metadata": {},
   "source": [
    "#### Here is where you can go crazy and edit a lot parameters contained within a midi file \n",
    "#### for more information have a look at the MIDIUtil Docs https://readthedocs.org/projects/midiutil/downloads/pdf/latest/\n",
    "#### If you just want it into midi format to play around with in your own midi compatible software just keep the variables as their defaults."
   ]
  },
  {
   "cell_type": "code",
   "execution_count": 39,
   "metadata": {},
   "outputs": [],
   "source": [
    "# Set up some variables for the MIDIUtil program to work\n",
    "track    = 0\n",
    "channel  = 0\n",
    "time     = 0            # In beats\n",
    "tempo    = 120          # In BPM\n",
    "volume   = 100          # 0-127, as per the MIDI standard\n",
    "clocks_per_tick = 24    # The clocks_per_tick argument specifies the number of clock ticks per metronome click. \n",
    "                        #By definition there are 24 ticks in a quarter note, so a metronome click per quarter note would be 24\n",
    "notes_per_quarter = 8   # It specifies the number of 32nd notes in a MIDI quarter note. \n",
    "                        #Usually there are 8 32nd notes in a quarter note (8/32 = 1/4), so the default value is\n",
    "8.\n",
    "\n",
    "MyMIDI = MIDIFile(1)  # One track, defaults to format 1 (tempo track is created\n",
    "                      # automatically)\n",
    "MyMIDI.addTempo(track, time, tempo)\n",
    "MyMIDI.addTimeSignature(track, time, 4, 4, clocks_per_tick, notes_per_quarter )   #add a time signature, here just 4/4\n",
    "\n",
    "#loop over each time step \n",
    "i=0\n",
    "for n in notes:  #loop over each note\n",
    "    MyMIDI.addNote(track, channel, pitch[i], time+i, duration[i], volume)\n",
    "    i=i+1\n",
    "\n",
    "#save the resulting midi file.    \n",
    "with open(\"MyMidiFile.mid\", \"wb\") as output_file:\n",
    "    MyMIDI.writeFile(output_file)"
   ]
  }
 ],
 "metadata": {
  "kernelspec": {
   "display_name": "Python 3",
   "language": "python",
   "name": "python3"
  },
  "language_info": {
   "codemirror_mode": {
    "name": "ipython",
    "version": 3
   },
   "file_extension": ".py",
   "mimetype": "text/x-python",
   "name": "python",
   "nbconvert_exporter": "python",
   "pygments_lexer": "ipython3",
   "version": "3.7.3"
  }
 },
 "nbformat": 4,
 "nbformat_minor": 4
}
